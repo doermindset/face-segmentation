{
 "cells": [
  {
   "cell_type": "code",
   "execution_count": 1,
   "id": "initial_id",
   "metadata": {
    "collapsed": true,
    "ExecuteTime": {
     "end_time": "2024-01-16T16:03:04.392023200Z",
     "start_time": "2024-01-16T16:02:54.106841100Z"
    }
   },
   "outputs": [],
   "source": [
    "import torch\n",
    "from PIL import Image\n",
    "from models.uNet import UNet\n",
    "from data.lfw_dataset import image_transforms"
   ]
  },
  {
   "cell_type": "code",
   "execution_count": null,
   "outputs": [],
   "source": [
    "model = UNet(n_channels=3, n_classes=3)\n",
    "model.load_state_dict(torch.load(\"checkpoints/\"))\n",
    "\n",
    "data_transforms = image_transforms((256, 256))\n",
    "\n",
    "image_input = Image.open(\"data/lfw_dataset/lfw_funneled/Aaron_Eckhart/Aaron_Eckhart_0001.jpg\")\n",
    "\n",
    "image_input = data_transforms(image_input)\n",
    "\n",
    "scripted_model = torch.jit.trace(model, image_input)\n",
    "\n",
    "scripted_model.save(\"checkpoints/unet_scripted_model.pt\")"
   ],
   "metadata": {
    "collapsed": false
   },
   "id": "807c86fc03837f0"
  }
 ],
 "metadata": {
  "kernelspec": {
   "display_name": "Python 3",
   "language": "python",
   "name": "python3"
  },
  "language_info": {
   "codemirror_mode": {
    "name": "ipython",
    "version": 2
   },
   "file_extension": ".py",
   "mimetype": "text/x-python",
   "name": "python",
   "nbconvert_exporter": "python",
   "pygments_lexer": "ipython2",
   "version": "2.7.6"
  }
 },
 "nbformat": 4,
 "nbformat_minor": 5
}
