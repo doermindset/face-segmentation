{
 "cells": [
  {
   "cell_type": "code",
   "execution_count": null,
   "id": "initial_id",
   "metadata": {
    "collapsed": true
   },
   "outputs": [],
   "source": [
    "import torch\n",
    "from PIL import Image\n",
    "from torchvision import transforms\n",
    "from models.uNet import UNet\n",
    "from io import BytesIO\n",
    "import requests\n",
    "from metrics.segmentation_metrics import compute_metrics"
   ]
  },
  {
   "cell_type": "code",
   "execution_count": null,
   "outputs": [],
   "source": [
    "model = UNet(n_channels=3, n_classes=3)\n",
    "ckpt = torch.load(rf\"C:\\work\\an 3\\dl\\face-segmentation\\checkpoints\\breezy-sweep-11_ckpt_epoch_21_mean_iou.pth\")\n",
    "model.load_state_dict(ckpt['model_state_dict'])\n",
    "model.eval()"
   ],
   "metadata": {
    "collapsed": false
   },
   "id": "807c86fc03837f0"
  },
  {
   "cell_type": "code",
   "execution_count": null,
   "outputs": [],
   "source": [
    "preprocess = transforms.Compose([\n",
    "    transforms.Resize((256, 256), interpolation=Image.LANCZOS),\n",
    "    transforms.ToTensor()])\n",
    "\n",
    "image_input = Image.open(rf\"C:\\work\\an 3\\dl\\face-segmentation\\data\\lfw_dataset\\lfw_funneled\\Aaron_Eckhart\\Aaron_Eckhart_0001.jpg\")\n",
    "\n",
    "image_input = preprocess(image_input)\n",
    "\n",
    "with torch.no_grad():\n",
    "    output = model(image_input.unsqueeze(0))\n",
    "\n",
    "output = (output - output.min()) / (output.max() - output.min())\n",
    "tensor_to_pil = transforms.ToPILImage()\n",
    "pil_image = tensor_to_pil(output.squeeze())\n",
    "pil_image.show()\n",
    "\n",
    "mpa, m_iou, m_fw_iou = compute_metrics(image_input.unsqueeze(0), output)\n",
    "print(f\"MPA: {mpa}, MIoU: {m_iou}, MFWIoU: {m_fw_iou}\")\n",
    "\n",
    "scripted_model = torch.jit.trace(model, image_input.unsqueeze(0))\n",
    "\n",
    "scripted_model.save(rf\"C:\\work\\an 3\\dl\\face-segmentation\\checkpoints\\unet_scripted_model.pt\")"
   ],
   "metadata": {
    "collapsed": false
   },
   "id": "7657b7f1bd6476de"
  },
  {
   "cell_type": "code",
   "execution_count": null,
   "outputs": [],
   "source": [
    "model = torch.jit.load(rf\"C:\\work\\an 3\\dl\\face-segmentation\\checkpoints\\unet_scripted_model.pt\")\n",
    "\n",
    "image_url = 'https://images.unsplash.com/photo-1542909168-82c3e7fdca5c?q=80&w=1780&auto=format&fit=crop&ixlib=rb-4.0.3&ixid=M3wxMjA3fDB8MHxwaG90by1wYWdlfHx8fGVufDB8fHx8fA%3D%3D'\n",
    "response = requests.get(image_url)\n",
    "image = Image.open(BytesIO(response.content)).convert('RGB')\n",
    "\n",
    "input_tensor = preprocess(image)\n",
    "input_batch = input_tensor.unsqueeze(0)\n",
    "\n",
    "with torch.no_grad():\n",
    "    output = model(input_batch)\n",
    "    \n",
    "output = (output - output.min()) / (output.max() - output.min())\n",
    "tensor_to_pil = transforms.ToPILImage()\n",
    "pil_image = tensor_to_pil(output.squeeze())\n",
    "pil_image.show()\n",
    "\n",
    "mpa, m_iou, m_fw_iou = compute_metrics(input_batch, output)\n",
    "\n",
    "print(f\"MPA: {mpa}, MIoU: {m_iou}, MFWIoU: {m_fw_iou}\")"
   ],
   "metadata": {
    "collapsed": false
   },
   "id": "76f71511e0ff40af"
  }
 ],
 "metadata": {
  "kernelspec": {
   "display_name": "Python 3",
   "language": "python",
   "name": "python3"
  },
  "language_info": {
   "codemirror_mode": {
    "name": "ipython",
    "version": 2
   },
   "file_extension": ".py",
   "mimetype": "text/x-python",
   "name": "python",
   "nbconvert_exporter": "python",
   "pygments_lexer": "ipython2",
   "version": "2.7.6"
  }
 },
 "nbformat": 4,
 "nbformat_minor": 5
}
