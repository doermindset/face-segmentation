{
 "cells": [
  {
   "cell_type": "code",
   "execution_count": 2,
   "id": "initial_id",
   "metadata": {
    "collapsed": true,
    "ExecuteTime": {
     "end_time": "2024-01-12T17:08:03.066458200Z",
     "start_time": "2024-01-12T17:08:02.233828400Z"
    }
   },
   "outputs": [],
   "source": [
    "import wandb\n",
    "import pprint"
   ]
  },
  {
   "cell_type": "code",
   "execution_count": 1,
   "outputs": [],
   "source": [
    "sweep_config = {\n",
    "    'method': 'random',\n",
    "    'metric': {'name': 'Validation Loss', 'goal': 'minimize'},\n",
    "    'parameters': {\n",
    "        'learning_rate': {\n",
    "            'distribution': 'log_uniform',\n",
    "            'min': 0,\n",
    "            'max': 0.1\n",
    "        },\n",
    "        'batch_size': {\n",
    "            'distribution': 'q_log_uniform_values',\n",
    "            'q': 8,\n",
    "            'min': 8,\n",
    "            'max': 32,\n",
    "        }\n",
    "    },\n",
    "    'epochs': {'value': 30}\n",
    "}"
   ],
   "metadata": {
    "collapsed": false,
    "ExecuteTime": {
     "end_time": "2024-01-12T17:07:54.787509400Z",
     "start_time": "2024-01-12T17:07:54.784020Z"
    }
   },
   "id": "e039ebf8a6120f6c"
  },
  {
   "cell_type": "code",
   "execution_count": 3,
   "outputs": [
    {
     "name": "stdout",
     "output_type": "stream",
     "text": [
      "{'epochs': {'value': 30},\n",
      " 'method': 'random',\n",
      " 'metric': {'goal': 'minimize', 'name': 'Validation Loss'},\n",
      " 'parameters': {'batch_size': {'distribution': 'q_log_uniform_values',\n",
      "                               'max': 32,\n",
      "                               'min': 8,\n",
      "                               'q': 8},\n",
      "                'learning_rate': {'distribution': 'log_uniform',\n",
      "                                  'max': 0.1,\n",
      "                                  'min': 0}}}\n"
     ]
    }
   ],
   "source": [
    "pprint.pprint(sweep_config)"
   ],
   "metadata": {
    "collapsed": false,
    "ExecuteTime": {
     "end_time": "2024-01-12T17:08:04.134730400Z",
     "start_time": "2024-01-12T17:08:04.128825800Z"
    }
   },
   "id": "29ee05df1ace7991"
  },
  {
   "cell_type": "code",
   "execution_count": 4,
   "outputs": [
    {
     "name": "stderr",
     "output_type": "stream",
     "text": [
      "\u001B[34m\u001B[1mwandb\u001B[0m: \u001B[33mWARNING\u001B[0m Malformed sweep config detected! This may cause your sweep to behave in unexpected ways.\n",
      "\u001B[34m\u001B[1mwandb\u001B[0m: \u001B[33mWARNING\u001B[0m To avoid this, please fix the sweep config schema violations below:\n",
      "\u001B[34m\u001B[1mwandb\u001B[0m: \u001B[33mWARNING\u001B[0m   Violation 1. Additional properties are not allowed ('epochs' was unexpected)\n",
      "\u001B[34m\u001B[1mwandb\u001B[0m: \u001B[33mWARNING\u001B[0m   Violation 2. learning_rate uses log_uniform, where min/max specify base-e exponents. Use log_uniform_values to specify limit values.\n"
     ]
    },
    {
     "name": "stdout",
     "output_type": "stream",
     "text": [
      "Create sweep with ID: 654zaa5i\n",
      "Sweep URL: https://wandb.ai/cvdl-3/face-segmentation-sweeps/sweeps/654zaa5i\n"
     ]
    }
   ],
   "source": [
    "sweep_id = wandb.sweep(sweep_config, project=\"face-segmentation-sweeps\")"
   ],
   "metadata": {
    "collapsed": false,
    "ExecuteTime": {
     "end_time": "2024-01-12T17:08:34.839025900Z",
     "start_time": "2024-01-12T17:08:31.578698200Z"
    }
   },
   "id": "efa9e4f73862f3fd"
  }
 ],
 "metadata": {
  "kernelspec": {
   "display_name": "Python 3",
   "language": "python",
   "name": "python3"
  },
  "language_info": {
   "codemirror_mode": {
    "name": "ipython",
    "version": 2
   },
   "file_extension": ".py",
   "mimetype": "text/x-python",
   "name": "python",
   "nbconvert_exporter": "python",
   "pygments_lexer": "ipython2",
   "version": "2.7.6"
  }
 },
 "nbformat": 4,
 "nbformat_minor": 5
}
